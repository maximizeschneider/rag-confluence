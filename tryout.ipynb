{
 "cells": [
  {
   "cell_type": "markdown",
   "metadata": {},
   "source": [
    "String zu Embeddings:"
   ]
  },
  {
   "cell_type": "code",
   "execution_count": null,
   "metadata": {},
   "outputs": [],
   "source": []
  },
  {
   "cell_type": "code",
   "execution_count": null,
   "metadata": {},
   "outputs": [],
   "source": [
    "from langchain_openai.embeddings import OpenAIEmbeddings\n",
    "import pyperclip\n",
    "\n",
    "embeddings = OpenAIEmbeddings()\n",
    "vec = embeddings.embed_query(\"Erzähl mir alles was du über Padme weißt\")\n",
    "vec_padme = \"\"\n",
    "def digits_to_string(digits):\n",
    "    # Transform the list of digits into a string of numbers separated by commas\n",
    "    return ', '.join(str(digit) for digit in digits)\n",
    "vec_padme = digits_to_string(vec)\n",
    "\n",
    "pyperclip.copy(vec_padme) # speichern in Zwischenablage"
   ]
  },
  {
   "cell_type": "code",
   "execution_count": null,
   "metadata": {},
   "outputs": [],
   "source": [
    "from langchain_community.llms import Ollama\n",
    "model = Ollama(model=\"llama3\")\n",
    "\n",
    "model.invoke(\"Tell me a joke\")"
   ]
  },
  {
   "cell_type": "code",
   "execution_count": 2,
   "metadata": {},
   "outputs": [
    {
     "name": "stderr",
     "output_type": "stream",
     "text": [
      "/Users/maxschneider/projects/llmforkm2/.venv/lib/python3.12/site-packages/langchain_core/vectorstores.py:342: UserWarning: No relevant docs were retrieved using the relevance score threshold 0.9\n",
      "  warnings.warn(\n"
     ]
    },
    {
     "data": {
      "text/plain": [
       "'Ich weiß es nicht.'"
      ]
     },
     "execution_count": 2,
     "metadata": {},
     "output_type": "execute_result"
    }
   ],
   "source": [
    "from langchain_pinecone import PineconeVectorStore\n",
    "from langchain_openai.embeddings import OpenAIEmbeddings\n",
    "from langsmith import Client\n",
    "import os \n",
    "from dotenv import load_dotenv\n",
    "from langchain_openai.chat_models import ChatOpenAI \n",
    "from langchain_core.output_parsers import StrOutputParser\n",
    "from langchain.prompts import ChatPromptTemplate \n",
    "from langchain_core.prompts import MessagesPlaceholder\n",
    "from langchain_core.messages import HumanMessage, AIMessage\n",
    "from langchain.chains.history_aware_retriever import create_history_aware_retriever\n",
    "from pinecone import Pinecone, ServerlessSpec\n",
    "\n",
    "\n",
    "from langchain_core.runnables import RunnableParallel, RunnableLambda, RunnablePassthrough\n",
    "from operator import itemgetter\n",
    "\n",
    "load_dotenv()\n",
    "OPENAI_API_KEY = os.getenv(\"OPENAI_API_KEY\")\n",
    "# Initialize vectorstore\n",
    "index_pinecone = \"llm-km\"\n",
    "embeddings = OpenAIEmbeddings()\n",
    "vectorstore = PineconeVectorStore(index_name=index_pinecone, embedding=embeddings)\n",
    "\n",
    "# tracing mit Langsmith from Langchain\n",
    "os.environ[\"LANGCHAIN_TRACING_V2\"] = \"true\"\n",
    "os.environ[\"LANGCHAIN_PROJECT\"] = \"RAG-project\"\n",
    "os.environ[\"LANGCHAIN_ENDPOINT\"] = \"https://api.smith.langchain.com\"\n",
    "os.environ[\"LANGCHAIN_API_KEY\"] = os.getenv(\"LANGCHAIN_API_KEY\")\n",
    "client = Client()\n",
    "\n",
    "embeddings = OpenAIEmbeddings()\n",
    "\n",
    "# konvertiert AI Message zu einem String\n",
    "parser = StrOutputParser() \n",
    "\n",
    "# Embedding der Wissenschunks\n",
    "\n",
    "model = ChatOpenAI(openai_api_key=OPENAI_API_KEY, model=\"gpt-3.5-turbo\", temperature=0)\n",
    "# template prompt\n",
    "rag_template = \"\"\"\n",
    "    Beantworte die Frage basierend auf dem gegebenen Kontext: {context}\n",
    "    \n",
    "    Wenn es Widersprüche gibt, gib zusätzlich zu der Antwort die Widersprüche seperat aus.      \n",
    "    Wenn das Beantworten der Frage nicht möglich ist durch den gegebenen Kontext oder kein Kontext gegeben wurde, antworte IMMER \"Ich weiß es nicht\". \n",
    "    \"\"\"\n",
    "\n",
    "rag_prompt = ChatPromptTemplate.from_messages([\n",
    "    (\"system\", rag_template),\n",
    "    MessagesPlaceholder(variable_name=\"chat_history\"),\n",
    "    (\"user\", \"{input}\"),\n",
    "    ])        \n",
    "\n",
    "retriever = vectorstore.as_retriever(search_type=\"similarity_score_threshold\", search_kwargs={\"k\": 10, \"score_threshold\": 0.9})\n",
    "\n",
    "rewriting_template = \"\"\"\n",
    "    Mit der gegebenen Konversation, generiere eine Suchabfrage zum Nachschlagen, um Informationen zu erhalten, die für die Konversation relevant sind. Gib nur die wirkliche Suchabfrage aus.\n",
    "    \"\"\"\n",
    "\n",
    "rewriting_prompt = ChatPromptTemplate.from_messages([MessagesPlaceholder(variable_name = \"chat_history\"), \n",
    "                                                   (\"user\", \"{input}\"),\n",
    "                                                   (\"system\", rewriting_template)\n",
    "                                                   ])       \n",
    "\n",
    "\n",
    "# compose page content of Documents to one string\n",
    "def format_docs(docs):\n",
    "    global relevant_docs\n",
    "    relevant_docs = docs\n",
    "    return \"\\n\\n\".join([d.page_content for d in docs])\n",
    "\n",
    "# RunnableParallel so both values of the dictionary get parallel excecuted, itemgetter to get the values of keys from the input dictionary\n",
    "retrieval = RunnableParallel({\"context\": itemgetter(\"input\") | retriever | format_docs, \"input\": itemgetter(\"input\"), \"chat_history\": itemgetter(\"chat_history\")})\n",
    "\n",
    "# rewrite the query given the chat history\n",
    "rewriting = RunnableParallel({\"input\": rewriting_prompt | model | parser, \"chat_history\": itemgetter(\"chat_history\")})\n",
    "\n",
    "# do nothing \n",
    "no_rewriting = RunnablePassthrough()\n",
    "\n",
    "def route(input_dict):\n",
    "    if len(input_dict[\"chat_history\"])!=0:\n",
    "        return rewriting\n",
    "    else:\n",
    "        return no_rewriting\n",
    "\n",
    "\n",
    "rag_chain = route | retrieval | rag_prompt | model | parser\n",
    "\n",
    "rag_chain.invoke({\n",
    "    \"chat_history\": [],\n",
    "    \"input\": \"Wie heißen ihre Kinder?\"\n",
    "    })\n",
    "\n",
    "\n"
   ]
  }
 ],
 "metadata": {
  "kernelspec": {
   "display_name": ".venv",
   "language": "python",
   "name": "python3"
  },
  "language_info": {
   "codemirror_mode": {
    "name": "ipython",
    "version": 3
   },
   "file_extension": ".py",
   "mimetype": "text/x-python",
   "name": "python",
   "nbconvert_exporter": "python",
   "pygments_lexer": "ipython3",
   "version": "3.12.2"
  }
 },
 "nbformat": 4,
 "nbformat_minor": 2
}
